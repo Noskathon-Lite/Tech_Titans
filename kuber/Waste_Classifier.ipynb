{
 "cells": [
  {
   "cell_type": "code",
   "execution_count": 23,
   "id": "bc1c79e8-0943-4dcf-abe9-d914c0a5e751",
   "metadata": {},
   "outputs": [],
   "source": [
    "import tensorflow as tf\n",
    "from tensorflow.keras.preprocessing.image import ImageDataGenerator\n",
    "from sklearn.model_selection import train_test_split\n",
    "import os\n",
    "import shutil\n",
    "# Paths\n",
    "dataset_path = \"ClassifyData/\"\n",
    "train_path = \"FinalClassifyData/train/\"\n",
    "val_path = \"FinalClassifyData/validation/\"\n",
    "\n",
    "# Create directories for train and validation sets\n",
    "os.makedirs(train_path, exist_ok=True)\n",
    "os.makedirs(val_path, exist_ok=True)\n",
    "\n",
    "# Split each class folder\n",
    "for class_name in os.listdir(dataset_path):\n",
    "    class_path = os.path.join(dataset_path, class_name)\n",
    "    if os.path.isdir(class_path):\n",
    "        images = os.listdir(class_path)\n",
    "        train_images, val_images = train_test_split(images, test_size=0.2, random_state=42)\n",
    "        \n",
    "        # Create class folders in train and val directories\n",
    "        os.makedirs(os.path.join(train_path, class_name), exist_ok=True)\n",
    "        os.makedirs(os.path.join(val_path, class_name), exist_ok=True)\n",
    "        \n",
    "        # Move files\n",
    "        for img in train_images:\n",
    "            shutil.copy(os.path.join(class_path, img), os.path.join(train_path, class_name, img))\n",
    "        for img in val_images:\n",
    "            shutil.copy(os.path.join(class_path, img), os.path.join(val_path, class_name, img))\n"
   ]
  },
  {
   "cell_type": "code",
   "execution_count": 24,
   "id": "b0215ef1-36c8-49d8-aed6-3756b3191818",
   "metadata": {},
   "outputs": [],
   "source": [
    "from ultralytics import YOLO"
   ]
  },
  {
   "cell_type": "code",
   "execution_count": 25,
   "id": "aabaa925-91fd-4d4c-bcf2-ae208d4ba5f6",
   "metadata": {},
   "outputs": [],
   "source": [
    "model = YOLO(\"yolo11n-cls.pt\")  # load a pretrained model (recommended for training)"
   ]
  },
  {
   "cell_type": "code",
   "execution_count": 27,
   "id": "f5ba6304-ff2a-4239-8d37-ce3a5741d4e4",
   "metadata": {},
   "outputs": [
    {
     "name": "stdout",
     "output_type": "stream",
     "text": [
      "Ultralytics 8.3.59 🚀 Python-3.12.3 torch-2.5.1+cu124 CUDA:0 (NVIDIA GeForce RTX 3060 Laptop GPU, 5931MiB)\n",
      "\u001b[34m\u001b[1mengine/trainer: \u001b[0mtask=classify, mode=train, model=yolo11n-cls.pt, data=/home/kuber/Desktop/Kuber/AI/Codes/Tech_Titans/ecoSort-AI/FinalClassifyData, epochs=25, time=None, patience=100, batch=16, imgsz=64, save=True, save_period=-1, cache=False, device=None, workers=8, project=None, name=train15, exist_ok=False, pretrained=True, optimizer=auto, verbose=True, seed=0, deterministic=True, single_cls=False, rect=False, cos_lr=False, close_mosaic=10, resume=False, amp=True, fraction=1.0, profile=False, freeze=None, multi_scale=False, overlap_mask=True, mask_ratio=4, dropout=0.0, val=True, split=val, save_json=False, save_hybrid=False, conf=None, iou=0.7, max_det=300, half=False, dnn=False, plots=True, source=None, vid_stride=1, stream_buffer=False, visualize=False, augment=False, agnostic_nms=False, classes=None, retina_masks=False, embed=None, show=False, save_frames=False, save_txt=False, save_conf=False, save_crop=False, show_labels=True, show_conf=True, show_boxes=True, line_width=None, format=torchscript, keras=False, optimize=False, int8=False, dynamic=False, simplify=True, opset=None, workspace=None, nms=False, lr0=0.01, lrf=0.01, momentum=0.937, weight_decay=0.0005, warmup_epochs=3.0, warmup_momentum=0.8, warmup_bias_lr=0.1, box=7.5, cls=0.5, dfl=1.5, pose=12.0, kobj=1.0, nbs=64, hsv_h=0.015, hsv_s=0.7, hsv_v=0.4, degrees=0.0, translate=0.1, scale=0.5, shear=0.0, perspective=0.0, flipud=0.0, fliplr=0.5, bgr=0.0, mosaic=1.0, mixup=0.0, copy_paste=0.0, copy_paste_mode=flip, auto_augment=randaugment, erasing=0.4, crop_fraction=1.0, cfg=None, tracker=botsort.yaml, save_dir=runs/classify/train15\n",
      "\u001b[34m\u001b[1mtrain:\u001b[0m /home/kuber/Desktop/Kuber/AI/Codes/Tech_Titans/ecoSort-AI/FinalClassifyData/train... found 1314 images in 3 classes ✅ \n",
      "\u001b[34m\u001b[1mval:\u001b[0m /home/kuber/Desktop/Kuber/AI/Codes/Tech_Titans/ecoSort-AI/FinalClassifyData/validation... found 331 images in 3 classes ✅ \n",
      "\u001b[34m\u001b[1mtest:\u001b[0m None...\n",
      "Overriding model.yaml nc=80 with nc=3\n",
      "\n",
      "                   from  n    params  module                                       arguments                     \n",
      "  0                  -1  1       464  ultralytics.nn.modules.conv.Conv             [3, 16, 3, 2]                 \n",
      "  1                  -1  1      4672  ultralytics.nn.modules.conv.Conv             [16, 32, 3, 2]                \n",
      "  2                  -1  1      6640  ultralytics.nn.modules.block.C3k2            [32, 64, 1, False, 0.25]      \n",
      "  3                  -1  1     36992  ultralytics.nn.modules.conv.Conv             [64, 64, 3, 2]                \n",
      "  4                  -1  1     26080  ultralytics.nn.modules.block.C3k2            [64, 128, 1, False, 0.25]     \n",
      "  5                  -1  1    147712  ultralytics.nn.modules.conv.Conv             [128, 128, 3, 2]              \n",
      "  6                  -1  1     87040  ultralytics.nn.modules.block.C3k2            [128, 128, 1, True]           \n",
      "  7                  -1  1    295424  ultralytics.nn.modules.conv.Conv             [128, 256, 3, 2]              \n",
      "  8                  -1  1    346112  ultralytics.nn.modules.block.C3k2            [256, 256, 1, True]           \n",
      "  9                  -1  1    249728  ultralytics.nn.modules.block.C2PSA           [256, 256, 1]                 \n",
      " 10                  -1  1    334083  ultralytics.nn.modules.head.Classify         [256, 3]                      \n",
      "YOLO11n-cls summary: 151 layers, 1,534,947 parameters, 1,534,947 gradients, 3.3 GFLOPs\n",
      "Transferred 234/236 items from pretrained weights\n",
      "\u001b[34m\u001b[1mTensorBoard: \u001b[0mStart with 'tensorboard --logdir runs/classify/train15', view at http://localhost:6006/\n",
      "\u001b[34m\u001b[1mAMP: \u001b[0mrunning Automatic Mixed Precision (AMP) checks...\n",
      "\u001b[34m\u001b[1mAMP: \u001b[0mchecks passed ✅\n"
     ]
    },
    {
     "name": "stderr",
     "output_type": "stream",
     "text": [
      "\u001b[34m\u001b[1mtrain: \u001b[0mScanning /home/kuber/Desktop/Kuber/AI/Codes/Tech_Titans/ecoSort-AI/FinalC\u001b[0m"
     ]
    },
    {
     "name": "stdout",
     "output_type": "stream",
     "text": [
      "\u001b[34m\u001b[1mtrain: \u001b[0mNew cache created: /home/kuber/Desktop/Kuber/AI/Codes/Tech_Titans/ecoSort-AI/FinalClassifyData/train.cache\n"
     ]
    },
    {
     "name": "stderr",
     "output_type": "stream",
     "text": [
      "\n",
      "\u001b[34m\u001b[1mval: \u001b[0mScanning /home/kuber/Desktop/Kuber/AI/Codes/Tech_Titans/ecoSort-AI/FinalCla\u001b[0m"
     ]
    },
    {
     "name": "stdout",
     "output_type": "stream",
     "text": [
      "\u001b[34m\u001b[1mval: \u001b[0mNew cache created: /home/kuber/Desktop/Kuber/AI/Codes/Tech_Titans/ecoSort-AI/FinalClassifyData/validation.cache\n"
     ]
    },
    {
     "name": "stderr",
     "output_type": "stream",
     "text": [
      "\n"
     ]
    },
    {
     "name": "stdout",
     "output_type": "stream",
     "text": [
      "\u001b[34m\u001b[1moptimizer:\u001b[0m 'optimizer=auto' found, ignoring 'lr0=0.01' and 'momentum=0.937' and determining best 'optimizer', 'lr0' and 'momentum' automatically... \n",
      "\u001b[34m\u001b[1moptimizer:\u001b[0m AdamW(lr=0.000714, momentum=0.9) with parameter groups 39 weight(decay=0.0), 40 weight(decay=0.0005), 40 bias(decay=0.0)\n",
      "\u001b[34m\u001b[1mTensorBoard: \u001b[0mmodel graph visualization added ✅\n",
      "Image sizes 64 train, 64 val\n",
      "Using 8 dataloader workers\n",
      "Logging results to \u001b[1mruns/classify/train15\u001b[0m\n",
      "Starting training for 25 epochs...\n",
      "\n",
      "      Epoch    GPU_mem       loss  Instances       Size\n"
     ]
    },
    {
     "name": "stderr",
     "output_type": "stream",
     "text": [
      "       1/25     0.239G     0.6036          2         64: 100%|██████████| 83/83 \n",
      "               classes   top1_acc   top5_acc: 100%|██████████| 11/11 [00:00<00:0"
     ]
    },
    {
     "name": "stdout",
     "output_type": "stream",
     "text": [
      "                   all          1          1\n"
     ]
    },
    {
     "name": "stderr",
     "output_type": "stream",
     "text": [
      "\n"
     ]
    },
    {
     "name": "stdout",
     "output_type": "stream",
     "text": [
      "\n",
      "      Epoch    GPU_mem       loss  Instances       Size\n"
     ]
    },
    {
     "name": "stderr",
     "output_type": "stream",
     "text": [
      "       2/25     0.166G     0.1209          2         64: 100%|██████████| 83/83 \n",
      "               classes   top1_acc   top5_acc: 100%|██████████| 11/11 [00:00<00:0"
     ]
    },
    {
     "name": "stdout",
     "output_type": "stream",
     "text": [
      "                   all          1          1\n"
     ]
    },
    {
     "name": "stderr",
     "output_type": "stream",
     "text": [
      "\n"
     ]
    },
    {
     "name": "stdout",
     "output_type": "stream",
     "text": [
      "\n",
      "      Epoch    GPU_mem       loss  Instances       Size\n"
     ]
    },
    {
     "name": "stderr",
     "output_type": "stream",
     "text": [
      "       3/25     0.166G     0.1063          2         64: 100%|██████████| 83/83 \n",
      "               classes   top1_acc   top5_acc: 100%|██████████| 11/11 [00:00<00:0"
     ]
    },
    {
     "name": "stdout",
     "output_type": "stream",
     "text": [
      "                   all          1          1\n"
     ]
    },
    {
     "name": "stderr",
     "output_type": "stream",
     "text": [
      "\n"
     ]
    },
    {
     "name": "stdout",
     "output_type": "stream",
     "text": [
      "\n",
      "      Epoch    GPU_mem       loss  Instances       Size\n"
     ]
    },
    {
     "name": "stderr",
     "output_type": "stream",
     "text": [
      "       4/25     0.166G     0.1061          2         64: 100%|██████████| 83/83 \n",
      "               classes   top1_acc   top5_acc: 100%|██████████| 11/11 [00:00<00:0"
     ]
    },
    {
     "name": "stdout",
     "output_type": "stream",
     "text": [
      "                   all      0.976          1\n"
     ]
    },
    {
     "name": "stderr",
     "output_type": "stream",
     "text": [
      "\n"
     ]
    },
    {
     "name": "stdout",
     "output_type": "stream",
     "text": [
      "\n",
      "      Epoch    GPU_mem       loss  Instances       Size\n"
     ]
    },
    {
     "name": "stderr",
     "output_type": "stream",
     "text": [
      "       5/25     0.166G    0.07553          2         64: 100%|██████████| 83/83 \n",
      "               classes   top1_acc   top5_acc: 100%|██████████| 11/11 [00:00<00:0"
     ]
    },
    {
     "name": "stdout",
     "output_type": "stream",
     "text": [
      "                   all          1          1\n"
     ]
    },
    {
     "name": "stderr",
     "output_type": "stream",
     "text": [
      "\n"
     ]
    },
    {
     "name": "stdout",
     "output_type": "stream",
     "text": [
      "\n",
      "      Epoch    GPU_mem       loss  Instances       Size\n"
     ]
    },
    {
     "name": "stderr",
     "output_type": "stream",
     "text": [
      "       6/25     0.166G     0.0439          2         64: 100%|██████████| 83/83 \n",
      "               classes   top1_acc   top5_acc: 100%|██████████| 11/11 [00:00<00:0"
     ]
    },
    {
     "name": "stdout",
     "output_type": "stream",
     "text": [
      "                   all          1          1\n"
     ]
    },
    {
     "name": "stderr",
     "output_type": "stream",
     "text": [
      "\n"
     ]
    },
    {
     "name": "stdout",
     "output_type": "stream",
     "text": [
      "\n",
      "      Epoch    GPU_mem       loss  Instances       Size\n"
     ]
    },
    {
     "name": "stderr",
     "output_type": "stream",
     "text": [
      "       7/25     0.166G    0.05269          2         64: 100%|██████████| 83/83 \n",
      "               classes   top1_acc   top5_acc: 100%|██████████| 11/11 [00:00<00:0\n"
     ]
    },
    {
     "name": "stdout",
     "output_type": "stream",
     "text": [
      "                   all          1          1\n",
      "\n",
      "      Epoch    GPU_mem       loss  Instances       Size\n"
     ]
    },
    {
     "name": "stderr",
     "output_type": "stream",
     "text": [
      "       8/25     0.166G     0.1103          2         64: 100%|██████████| 83/83 \n",
      "               classes   top1_acc   top5_acc: 100%|██████████| 11/11 [00:00<00:0"
     ]
    },
    {
     "name": "stdout",
     "output_type": "stream",
     "text": [
      "                   all          1          1\n"
     ]
    },
    {
     "name": "stderr",
     "output_type": "stream",
     "text": [
      "\n"
     ]
    },
    {
     "name": "stdout",
     "output_type": "stream",
     "text": [
      "\n",
      "      Epoch    GPU_mem       loss  Instances       Size\n"
     ]
    },
    {
     "name": "stderr",
     "output_type": "stream",
     "text": [
      "       9/25     0.166G    0.05152          2         64: 100%|██████████| 83/83 \n",
      "               classes   top1_acc   top5_acc: 100%|██████████| 11/11 [00:00<00:0"
     ]
    },
    {
     "name": "stdout",
     "output_type": "stream",
     "text": [
      "                   all          1          1\n"
     ]
    },
    {
     "name": "stderr",
     "output_type": "stream",
     "text": [
      "\n"
     ]
    },
    {
     "name": "stdout",
     "output_type": "stream",
     "text": [
      "\n",
      "      Epoch    GPU_mem       loss  Instances       Size\n"
     ]
    },
    {
     "name": "stderr",
     "output_type": "stream",
     "text": [
      "      10/25     0.166G    0.02938          2         64: 100%|██████████| 83/83 \n",
      "               classes   top1_acc   top5_acc: 100%|██████████| 11/11 [00:00<00:0"
     ]
    },
    {
     "name": "stdout",
     "output_type": "stream",
     "text": [
      "                   all          1          1\n"
     ]
    },
    {
     "name": "stderr",
     "output_type": "stream",
     "text": [
      "\n"
     ]
    },
    {
     "name": "stdout",
     "output_type": "stream",
     "text": [
      "\n",
      "      Epoch    GPU_mem       loss  Instances       Size\n"
     ]
    },
    {
     "name": "stderr",
     "output_type": "stream",
     "text": [
      "      11/25     0.166G    0.03059          2         64: 100%|██████████| 83/83 \n",
      "               classes   top1_acc   top5_acc: 100%|██████████| 11/11 [00:00<00:0\n"
     ]
    },
    {
     "name": "stdout",
     "output_type": "stream",
     "text": [
      "                   all          1          1\n",
      "\n",
      "      Epoch    GPU_mem       loss  Instances       Size\n"
     ]
    },
    {
     "name": "stderr",
     "output_type": "stream",
     "text": [
      "      12/25     0.166G    0.02641          2         64: 100%|██████████| 83/83 \n",
      "               classes   top1_acc   top5_acc: 100%|██████████| 11/11 [00:00<00:0"
     ]
    },
    {
     "name": "stdout",
     "output_type": "stream",
     "text": [
      "                   all          1          1\n"
     ]
    },
    {
     "name": "stderr",
     "output_type": "stream",
     "text": [
      "\n"
     ]
    },
    {
     "name": "stdout",
     "output_type": "stream",
     "text": [
      "\n",
      "      Epoch    GPU_mem       loss  Instances       Size\n"
     ]
    },
    {
     "name": "stderr",
     "output_type": "stream",
     "text": [
      "      13/25     0.166G     0.0581          2         64: 100%|██████████| 83/83 \n",
      "               classes   top1_acc   top5_acc: 100%|██████████| 11/11 [00:00<00:0"
     ]
    },
    {
     "name": "stdout",
     "output_type": "stream",
     "text": [
      "                   all          1          1\n"
     ]
    },
    {
     "name": "stderr",
     "output_type": "stream",
     "text": [
      "\n"
     ]
    },
    {
     "name": "stdout",
     "output_type": "stream",
     "text": [
      "\n",
      "      Epoch    GPU_mem       loss  Instances       Size\n"
     ]
    },
    {
     "name": "stderr",
     "output_type": "stream",
     "text": [
      "      14/25     0.166G    0.04598          2         64: 100%|██████████| 83/83 \n",
      "               classes   top1_acc   top5_acc: 100%|██████████| 11/11 [00:00<00:0"
     ]
    },
    {
     "name": "stdout",
     "output_type": "stream",
     "text": [
      "                   all          1          1\n"
     ]
    },
    {
     "name": "stderr",
     "output_type": "stream",
     "text": [
      "\n"
     ]
    },
    {
     "name": "stdout",
     "output_type": "stream",
     "text": [
      "\n",
      "      Epoch    GPU_mem       loss  Instances       Size\n"
     ]
    },
    {
     "name": "stderr",
     "output_type": "stream",
     "text": [
      "      15/25     0.166G    0.02734          2         64: 100%|██████████| 83/83 \n",
      "               classes   top1_acc   top5_acc: 100%|██████████| 11/11 [00:00<00:0"
     ]
    },
    {
     "name": "stdout",
     "output_type": "stream",
     "text": [
      "                   all          1          1\n"
     ]
    },
    {
     "name": "stderr",
     "output_type": "stream",
     "text": [
      "\n"
     ]
    },
    {
     "name": "stdout",
     "output_type": "stream",
     "text": [
      "\n",
      "      Epoch    GPU_mem       loss  Instances       Size\n"
     ]
    },
    {
     "name": "stderr",
     "output_type": "stream",
     "text": [
      "      16/25     0.166G    0.02064          2         64: 100%|██████████| 83/83 \n",
      "               classes   top1_acc   top5_acc: 100%|██████████| 11/11 [00:00<00:0"
     ]
    },
    {
     "name": "stdout",
     "output_type": "stream",
     "text": [
      "                   all          1          1\n"
     ]
    },
    {
     "name": "stderr",
     "output_type": "stream",
     "text": [
      "\n"
     ]
    },
    {
     "name": "stdout",
     "output_type": "stream",
     "text": [
      "\n",
      "      Epoch    GPU_mem       loss  Instances       Size\n"
     ]
    },
    {
     "name": "stderr",
     "output_type": "stream",
     "text": [
      "      17/25     0.166G    0.03516          2         64: 100%|██████████| 83/83 \n",
      "               classes   top1_acc   top5_acc: 100%|██████████| 11/11 [00:00<00:0"
     ]
    },
    {
     "name": "stdout",
     "output_type": "stream",
     "text": [
      "                   all      0.997          1\n"
     ]
    },
    {
     "name": "stderr",
     "output_type": "stream",
     "text": [
      "\n"
     ]
    },
    {
     "name": "stdout",
     "output_type": "stream",
     "text": [
      "\n",
      "      Epoch    GPU_mem       loss  Instances       Size\n"
     ]
    },
    {
     "name": "stderr",
     "output_type": "stream",
     "text": [
      "      18/25     0.166G    0.01513          2         64: 100%|██████████| 83/83 \n",
      "               classes   top1_acc   top5_acc: 100%|██████████| 11/11 [00:00<00:0"
     ]
    },
    {
     "name": "stdout",
     "output_type": "stream",
     "text": [
      "                   all          1          1\n"
     ]
    },
    {
     "name": "stderr",
     "output_type": "stream",
     "text": [
      "\n"
     ]
    },
    {
     "name": "stdout",
     "output_type": "stream",
     "text": [
      "\n",
      "      Epoch    GPU_mem       loss  Instances       Size\n"
     ]
    },
    {
     "name": "stderr",
     "output_type": "stream",
     "text": [
      "      19/25     0.166G    0.01963          2         64: 100%|██████████| 83/83 \n",
      "               classes   top1_acc   top5_acc: 100%|██████████| 11/11 [00:00<00:0"
     ]
    },
    {
     "name": "stdout",
     "output_type": "stream",
     "text": [
      "                   all          1          1\n"
     ]
    },
    {
     "name": "stderr",
     "output_type": "stream",
     "text": [
      "\n"
     ]
    },
    {
     "name": "stdout",
     "output_type": "stream",
     "text": [
      "\n",
      "      Epoch    GPU_mem       loss  Instances       Size\n"
     ]
    },
    {
     "name": "stderr",
     "output_type": "stream",
     "text": [
      "      20/25     0.166G    0.04335          2         64: 100%|██████████| 83/83 \n",
      "               classes   top1_acc   top5_acc: 100%|██████████| 11/11 [00:00<00:0"
     ]
    },
    {
     "name": "stdout",
     "output_type": "stream",
     "text": [
      "                   all          1          1\n"
     ]
    },
    {
     "name": "stderr",
     "output_type": "stream",
     "text": [
      "\n"
     ]
    },
    {
     "name": "stdout",
     "output_type": "stream",
     "text": [
      "\n",
      "      Epoch    GPU_mem       loss  Instances       Size\n"
     ]
    },
    {
     "name": "stderr",
     "output_type": "stream",
     "text": [
      "      21/25     0.166G    0.05894          2         64: 100%|██████████| 83/83 \n",
      "               classes   top1_acc   top5_acc: 100%|██████████| 11/11 [00:00<00:0"
     ]
    },
    {
     "name": "stdout",
     "output_type": "stream",
     "text": [
      "                   all          1          1\n"
     ]
    },
    {
     "name": "stderr",
     "output_type": "stream",
     "text": [
      "\n"
     ]
    },
    {
     "name": "stdout",
     "output_type": "stream",
     "text": [
      "\n",
      "      Epoch    GPU_mem       loss  Instances       Size\n"
     ]
    },
    {
     "name": "stderr",
     "output_type": "stream",
     "text": [
      "      22/25     0.166G   0.007677          2         64: 100%|██████████| 83/83 \n",
      "               classes   top1_acc   top5_acc: 100%|██████████| 11/11 [00:00<00:0"
     ]
    },
    {
     "name": "stdout",
     "output_type": "stream",
     "text": [
      "                   all          1          1\n"
     ]
    },
    {
     "name": "stderr",
     "output_type": "stream",
     "text": [
      "\n"
     ]
    },
    {
     "name": "stdout",
     "output_type": "stream",
     "text": [
      "\n",
      "      Epoch    GPU_mem       loss  Instances       Size\n"
     ]
    },
    {
     "name": "stderr",
     "output_type": "stream",
     "text": [
      "      23/25     0.166G    0.01423          2         64: 100%|██████████| 83/83 \n",
      "               classes   top1_acc   top5_acc: 100%|██████████| 11/11 [00:00<00:0"
     ]
    },
    {
     "name": "stdout",
     "output_type": "stream",
     "text": [
      "                   all          1          1\n"
     ]
    },
    {
     "name": "stderr",
     "output_type": "stream",
     "text": [
      "\n"
     ]
    },
    {
     "name": "stdout",
     "output_type": "stream",
     "text": [
      "\n",
      "      Epoch    GPU_mem       loss  Instances       Size\n"
     ]
    },
    {
     "name": "stderr",
     "output_type": "stream",
     "text": [
      "      24/25     0.166G    0.01963          2         64: 100%|██████████| 83/83 \n",
      "               classes   top1_acc   top5_acc: 100%|██████████| 11/11 [00:00<00:0\n"
     ]
    },
    {
     "name": "stdout",
     "output_type": "stream",
     "text": [
      "                   all          1          1\n",
      "\n",
      "      Epoch    GPU_mem       loss  Instances       Size\n"
     ]
    },
    {
     "name": "stderr",
     "output_type": "stream",
     "text": [
      "      25/25     0.166G   0.003811          2         64: 100%|██████████| 83/83 \n",
      "               classes   top1_acc   top5_acc: 100%|██████████| 11/11 [00:00<00:0"
     ]
    },
    {
     "name": "stdout",
     "output_type": "stream",
     "text": [
      "                   all          1          1\n"
     ]
    },
    {
     "name": "stderr",
     "output_type": "stream",
     "text": [
      "\n"
     ]
    },
    {
     "name": "stdout",
     "output_type": "stream",
     "text": [
      "\n",
      "25 epochs completed in 0.037 hours.\n",
      "Optimizer stripped from runs/classify/train15/weights/last.pt, 3.2MB\n",
      "Optimizer stripped from runs/classify/train15/weights/best.pt, 3.2MB\n",
      "\n",
      "Validating runs/classify/train15/weights/best.pt...\n",
      "Ultralytics 8.3.59 🚀 Python-3.12.3 torch-2.5.1+cu124 CUDA:0 (NVIDIA GeForce RTX 3060 Laptop GPU, 5931MiB)\n",
      "YOLO11n-cls summary (fused): 112 layers, 1,529,867 parameters, 0 gradients, 3.2 GFLOPs\n",
      "\u001b[34m\u001b[1mtrain:\u001b[0m /home/kuber/Desktop/Kuber/AI/Codes/Tech_Titans/ecoSort-AI/FinalClassifyData/train... found 1314 images in 3 classes ✅ \n",
      "\u001b[34m\u001b[1mval:\u001b[0m /home/kuber/Desktop/Kuber/AI/Codes/Tech_Titans/ecoSort-AI/FinalClassifyData/validation... found 331 images in 3 classes ✅ \n",
      "\u001b[34m\u001b[1mtest:\u001b[0m None...\n"
     ]
    },
    {
     "name": "stderr",
     "output_type": "stream",
     "text": [
      "               classes   top1_acc   top5_acc: 100%|██████████| 11/11 [00:00<00:0\n"
     ]
    },
    {
     "name": "stdout",
     "output_type": "stream",
     "text": [
      "                   all          1          1\n",
      "Speed: 0.0ms preprocess, 0.3ms inference, 0.0ms loss, 0.0ms postprocess per image\n",
      "Results saved to \u001b[1mruns/classify/train15\u001b[0m\n"
     ]
    }
   ],
   "source": [
    "results = model.train(data=\"/home/kuber/Desktop/Kuber/AI/Codes/Tech_Titans/ecoSort-AI/FinalClassifyData\", epochs=25, imgsz=64)"
   ]
  },
  {
   "cell_type": "code",
   "execution_count": 3,
   "id": "57d566eb-0640-49c9-ae15-1309207a5408",
   "metadata": {},
   "outputs": [],
   "source": [
    "import pickle\n",
    "model = YOLO(\"./runs/classify/train15/weights/last.pt\")  # Replace with the correct path to your trained model\n",
    "with open('final_model_pickle','wb') as f:\n",
    "    pickle.dump(model,f)"
   ]
  },
  {
   "cell_type": "code",
   "execution_count": 6,
   "id": "868db477-d188-43e3-8bd0-e29803b8157c",
   "metadata": {},
   "outputs": [
    {
     "name": "stdout",
     "output_type": "stream",
     "text": [
      "\n",
      "0: 64x64 Base 1.00, biodegradable 0.00, non_biodegradable 0.00, 3.3ms\n",
      "Speed: 1.3ms preprocess, 3.3ms inference, 0.0ms postprocess per image at shape (1, 3, 64, 64)\n",
      "\n",
      "0: 64x64 biodegradable 0.81, Base 0.16, non_biodegradable 0.03, 5.2ms\n",
      "Speed: 2.3ms preprocess, 5.2ms inference, 0.0ms postprocess per image at shape (1, 3, 64, 64)\n",
      "\n",
      "0: 64x64 non_biodegradable 0.75, biodegradable 0.25, Base 0.00, 4.6ms\n",
      "Speed: 2.0ms preprocess, 4.6ms inference, 0.0ms postprocess per image at shape (1, 3, 64, 64)\n",
      "\n",
      "0: 64x64 biodegradable 0.99, non_biodegradable 0.01, Base 0.00, 4.7ms\n",
      "Speed: 2.1ms preprocess, 4.7ms inference, 0.0ms postprocess per image at shape (1, 3, 64, 64)\n",
      "\n",
      "0: 64x64 biodegradable 0.94, non_biodegradable 0.06, Base 0.00, 4.6ms\n",
      "Speed: 1.9ms preprocess, 4.6ms inference, 0.0ms postprocess per image at shape (1, 3, 64, 64)\n",
      "\n",
      "0: 64x64 non_biodegradable 1.00, biodegradable 0.00, Base 0.00, 4.5ms\n",
      "Speed: 2.1ms preprocess, 4.5ms inference, 0.0ms postprocess per image at shape (1, 3, 64, 64)\n",
      "\n",
      "0: 64x64 biodegradable 0.98, non_biodegradable 0.02, Base 0.00, 4.6ms\n",
      "Speed: 1.9ms preprocess, 4.6ms inference, 0.0ms postprocess per image at shape (1, 3, 64, 64)\n",
      "\n",
      "0: 64x64 non_biodegradable 0.81, biodegradable 0.19, Base 0.00, 4.5ms\n",
      "Speed: 1.7ms preprocess, 4.5ms inference, 0.0ms postprocess per image at shape (1, 3, 64, 64)\n",
      "\n",
      "0: 64x64 non_biodegradable 0.91, biodegradable 0.09, Base 0.00, 4.3ms\n",
      "Speed: 1.8ms preprocess, 4.3ms inference, 0.0ms postprocess per image at shape (1, 3, 64, 64)\n",
      "\n",
      "0: 64x64 biodegradable 0.70, Base 0.18, non_biodegradable 0.11, 4.3ms\n",
      "Speed: 1.8ms preprocess, 4.3ms inference, 0.0ms postprocess per image at shape (1, 3, 64, 64)\n",
      "\n",
      "0: 64x64 Base 1.00, biodegradable 0.00, non_biodegradable 0.00, 4.3ms\n",
      "Speed: 1.7ms preprocess, 4.3ms inference, 0.0ms postprocess per image at shape (1, 3, 64, 64)\n"
     ]
    }
   ],
   "source": [
    "import cv2\n",
    "import random\n",
    "import numpy as np\n",
    "import time\n",
    "from ultralytics import YOLO\n",
    "# detect:10 classify:15\n",
    "# Load the trained model\n",
    "model = YOLO(\"./runs/classify/train15/weights/last.pt\")  # Replace with the correct path to your trained model\n",
    "\n",
    "# Initialize video capture\n",
    "cap = cv2.VideoCapture(2)  # Use 0 for laptop camera\n",
    "\n",
    "# Check if the video capture is opened\n",
    "if not cap.isOpened():\n",
    "    print(\"Error: Cannot access the camera\")\n",
    "    exit()\n",
    "\n",
    "# Read the class names from category.txt\n",
    "with open(\"utils/classify.txt\", \"r\") as my_file:\n",
    "    class_list = my_file.read().split(\"\\n\")\n",
    "\n",
    "# Frame dimensions and rectangle size\n",
    "frame_wid = 740\n",
    "frame_hyt = 580\n",
    "rect_wid, rect_hyt = 300, 300  # Width and height of the rectangle\n",
    "\n",
    "last_model_time = time.time()\n",
    "model_delay = 2  # Process the model every 5 seconds\n",
    "last_label = \"\"  # Store the last label to display continuously\n",
    "\n",
    "while True:\n",
    "    ret, frame = cap.read()\n",
    "    if not ret:\n",
    "        print(\"Failed to capture frame\")\n",
    "        break\n",
    "\n",
    "    # Get frame dimensions\n",
    "    h, w, _ = frame.shape\n",
    "\n",
    "    # Define rectangle coordinates (centered)\n",
    "    cx, cy = w // 2, h // 2  # Center of the frame\n",
    "    x1, y1 = cx - rect_wid // 2, cy - rect_hyt // 2\n",
    "    x2, y2 = cx + rect_wid // 2, cy + rect_hyt // 2\n",
    "\n",
    "    # Ensure rectangle is within bounds\n",
    "    x1, y1, x2, y2 = max(0, x1), max(0, y1), min(w, x2), min(h, y2)\n",
    "\n",
    "    # Draw rectangle on the frame\n",
    "    cv2.rectangle(frame, (x1, y1), (x2, y2), (0, 255, 0), 2)\n",
    "\n",
    "    # Crop the rectangle area\n",
    "    cropped_frame = frame[y1:y2, x1:x2]\n",
    "\n",
    "    current_time = time.time()\n",
    "    if current_time - last_model_time >= model_delay:\n",
    "        last_model_time = current_time\n",
    "        # Convert cropped frame to RGB for the model\n",
    "        input_frame = cv2.cvtColor(cropped_frame, cv2.COLOR_BGR2RGB)\n",
    "\n",
    "        # Perform inference\n",
    "        results = model.predict(source=input_frame, save=False, conf=0.5)\n",
    "\n",
    "        # Process results\n",
    "        if results:\n",
    "            for result in results:\n",
    "                cls_probs = result.probs\n",
    "                class_id = cls_probs.top1  # Get top-1 class\n",
    "                confidence = cls_probs.top1conf.item()  # Confidence of the top-1 class\n",
    "                last_label = f\"{class_list[class_id]}: {confidence:.2f}\"\n",
    "\n",
    "    # Draw label on the full frame\n",
    "    if last_label:\n",
    "        cv2.putText(frame, last_label, (x1, y1 - 10), cv2.FONT_HERSHEY_SIMPLEX, 0.7, (0, 255, 0), 2)\n",
    "\n",
    "    # Display the frame with the rectangle and label\n",
    "    cv2.imshow('Camera Feed', frame)\n",
    "\n",
    "    # Break the loop on 'q' key press\n",
    "    if cv2.waitKey(1) & 0xFF == ord('q'):\n",
    "        break\n",
    "\n",
    "# Release resources\n",
    "cap.release()\n",
    "cv2.destroyAllWindows()\n"
   ]
  }
 ],
 "metadata": {
  "kernelspec": {
   "display_name": "Python 3 (ipykernel)",
   "language": "python",
   "name": "python3"
  },
  "language_info": {
   "codemirror_mode": {
    "name": "ipython",
    "version": 3
   },
   "file_extension": ".py",
   "mimetype": "text/x-python",
   "name": "python",
   "nbconvert_exporter": "python",
   "pygments_lexer": "ipython3",
   "version": "3.12.3"
  }
 },
 "nbformat": 4,
 "nbformat_minor": 5
}
